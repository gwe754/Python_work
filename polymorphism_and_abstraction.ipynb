{
  "nbformat": 4,
  "nbformat_minor": 0,
  "metadata": {
    "colab": {
      "provenance": [],
      "authorship_tag": "ABX9TyOZz+Abr+TRHHRQ59jQdUrr",
      "include_colab_link": true
    },
    "kernelspec": {
      "name": "python3",
      "display_name": "Python 3"
    },
    "language_info": {
      "name": "python"
    }
  },
  "cells": [
    {
      "cell_type": "markdown",
      "metadata": {
        "id": "view-in-github",
        "colab_type": "text"
      },
      "source": [
        "<a href=\"https://colab.research.google.com/github/gwe754/Python_work/blob/main/polymorphism_and_abstraction.ipynb\" target=\"_parent\"><img src=\"https://colab.research.google.com/assets/colab-badge.svg\" alt=\"Open In Colab\"/></a>"
      ]
    },
    {
      "cell_type": "code",
      "execution_count": 1,
      "metadata": {
        "colab": {
          "base_uri": "https://localhost:8080/"
        },
        "id": "u1K6B2elDlxN",
        "outputId": "159d0f2e-2284-46de-e5dd-0ef2b5215605"
      },
      "outputs": [
        {
          "output_type": "stream",
          "name": "stdout",
          "text": [
            "This is person class\n"
          ]
        }
      ],
      "source": [
        "class Mammel:\n",
        "  def info(self):\n",
        "    print(\"\")\n",
        "\n",
        "class person (Mammel):\n",
        "  def info(self):\n",
        "    print(\"This is person class\")\n",
        "p1=person()\n",
        "p1.info()"
      ]
    },
    {
      "cell_type": "code",
      "source": [
        "# no method overloading in python\n",
        "# same function in class\n",
        "\n",
        "class Add:\n",
        "  def __init__(self,x) -> None:\n",
        "    self.x=x\n",
        "  def __add__(self,othr):\n",
        "    print(self)\n",
        "\n",
        "a1=Add(3)\n",
        "a2=Add(4)\n",
        "print(a1.__add__(4))\n",
        "print(a1)\n",
        "#"
      ],
      "metadata": {
        "colab": {
          "base_uri": "https://localhost:8080/"
        },
        "id": "QTYr__xoEv40",
        "outputId": "e742ad79-86a3-4f25-c200-a144ffc333ee"
      },
      "execution_count": 4,
      "outputs": [
        {
          "output_type": "stream",
          "name": "stdout",
          "text": [
            "<__main__.Add object at 0x7c96ec4d5ea0>\n",
            "None\n",
            "<__main__.Add object at 0x7c96ec4d5ea0>\n"
          ]
        }
      ]
    },
    {
      "cell_type": "code",
      "source": [],
      "metadata": {
        "id": "FMxWpkdeIId7"
      },
      "execution_count": null,
      "outputs": []
    },
    {
      "cell_type": "code",
      "source": [
        "\n"
      ],
      "metadata": {
        "id": "HsrlNZeqGQcm"
      },
      "execution_count": 14,
      "outputs": []
    },
    {
      "cell_type": "code",
      "source": [
        "from abc import ABC, abstractclassmethod\n",
        "\n",
        "class Mammel(ABC):\n",
        "  @abstractclassmethod\n",
        "  def info(self):\n",
        "    pass\n",
        "\n",
        "class octopus(Mammel):\n",
        "  def greet():\n",
        "    print(\"hey\")\n",
        "  def info(self):\n",
        "    print(\"It has 8 legs\")\n",
        "\n",
        "o=octopus()\n",
        "o.info()"
      ],
      "metadata": {
        "colab": {
          "base_uri": "https://localhost:8080/"
        },
        "id": "Vv959t3tKyfi",
        "outputId": "0064cc62-81d3-4442-f846-0a1fc6817c55"
      },
      "execution_count": 14,
      "outputs": [
        {
          "output_type": "stream",
          "name": "stdout",
          "text": [
            "It has 8 legs\n"
          ]
        }
      ]
    },
    {
      "cell_type": "code",
      "source": [],
      "metadata": {
        "id": "a7eOI18wJ6tV"
      },
      "execution_count": null,
      "outputs": []
    },
    {
      "cell_type": "code",
      "source": [],
      "metadata": {
        "id": "U13ajqpOGD8P"
      },
      "execution_count": null,
      "outputs": []
    }
  ]
}