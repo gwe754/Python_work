{
  "nbformat": 4,
  "nbformat_minor": 0,
  "metadata": {
    "colab": {
      "provenance": [],
      "authorship_tag": "ABX9TyPfNTCILr0rpy9IPZ72f985",
      "include_colab_link": true
    },
    "kernelspec": {
      "name": "python3",
      "display_name": "Python 3"
    },
    "language_info": {
      "name": "python"
    }
  },
  "cells": [
    {
      "cell_type": "markdown",
      "metadata": {
        "id": "view-in-github",
        "colab_type": "text"
      },
      "source": [
        "<a href=\"https://colab.research.google.com/github/gwe754/Python_work/blob/main/class_and_object.ipynb\" target=\"_parent\"><img src=\"https://colab.research.google.com/assets/colab-badge.svg\" alt=\"Open In Colab\"/></a>"
      ]
    },
    {
      "cell_type": "code",
      "execution_count": 2,
      "metadata": {
        "colab": {
          "base_uri": "https://localhost:8080/"
        },
        "id": "M9MESiIouHWJ",
        "outputId": "030a99d1-044f-4f83-da86-bad863c7ad5a"
      },
      "outputs": [
        {
          "output_type": "stream",
          "name": "stdout",
          "text": [
            "hey\n"
          ]
        },
        {
          "output_type": "execute_result",
          "data": {
            "text/plain": [
              "5"
            ]
          },
          "metadata": {},
          "execution_count": 2
        }
      ],
      "source": [
        "class House:\n",
        "  # self=h1\n",
        "  def __init__(self,x):\n",
        "    self.color=x\n",
        "    self.room=5\n",
        "    print(\"hey\")\n",
        "h1=House(\"yellow\")\n",
        "h1.color\n",
        "h1.room\n"
      ]
    },
    {
      "cell_type": "code",
      "source": [
        "# inheritance\n",
        "# same code\n",
        "# parent class - child class\n",
        "class base:\n",
        "  amount=50000\n",
        "  def info(self):\n",
        "    print(\"amount\")\n",
        "\n",
        "# child\n",
        "class son(base):\n",
        "  salary=10000\n",
        "  def naina(self):\n",
        "    super().info()\n",
        "    print(self)\n",
        "s1=son()\n",
        "s1.naina()\n",
        "\n",
        "s1.amount\n"
      ],
      "metadata": {
        "colab": {
          "base_uri": "https://localhost:8080/"
        },
        "id": "fLdpz_Ajvs0H",
        "outputId": "15e0ec6c-be42-4a7f-fc81-801ab986811e"
      },
      "execution_count": 8,
      "outputs": [
        {
          "output_type": "stream",
          "name": "stdout",
          "text": [
            "amount\n",
            "<__main__.son object at 0x7dd369f45330>\n"
          ]
        },
        {
          "output_type": "execute_result",
          "data": {
            "text/plain": [
              "50000"
            ]
          },
          "metadata": {},
          "execution_count": 8
        }
      ]
    },
    {
      "cell_type": "code",
      "source": [
        "class Driver:\n",
        "  def __init__(self,name,email):\n",
        "    self.name=name  # instance variable\n",
        "    self.email=email\n",
        "class Customer(Driver):\n",
        "  def __init__(self,x,y):\n",
        "    super().__init__(x,y)\n",
        "\n",
        "c1=Customer(\"kashish\",\"kashish@gmail\")\n",
        "c1.name\n",
        "\n",
        "\n",
        "\n"
      ],
      "metadata": {
        "colab": {
          "base_uri": "https://localhost:8080/",
          "height": 35
        },
        "id": "XMszEPXRzZuW",
        "outputId": "65ba62c2-c24c-4b0f-fcc0-c119d4d65383"
      },
      "execution_count": 10,
      "outputs": [
        {
          "output_type": "execute_result",
          "data": {
            "text/plain": [
              "'kashish'"
            ],
            "application/vnd.google.colaboratory.intrinsic+json": {
              "type": "string"
            }
          },
          "metadata": {},
          "execution_count": 10
        }
      ]
    },
    {
      "cell_type": "code",
      "source": [
        "class GrandFather:\n",
        "  def __init__(self,age):\n",
        "    self.age=age\n",
        "    print(self.age) # object variable\n",
        "\n",
        "class Father(GrandFather):\n",
        "  def __init__(self,x):\n",
        "    super().__init__(x)\n",
        "class son(Father):\n",
        "  age=\n",
        "f=Father(32)\n",
        "\n",
        "\n",
        "\n"
      ],
      "metadata": {
        "colab": {
          "base_uri": "https://localhost:8080/"
        },
        "id": "8AKJL7m5yPER",
        "outputId": "e64d615c-14f4-49e0-ca74-307b72866df8"
      },
      "execution_count": 11,
      "outputs": [
        {
          "output_type": "stream",
          "name": "stdout",
          "text": [
            "32\n"
          ]
        }
      ]
    },
    {
      "cell_type": "code",
      "source": [
        "# what is multiple and heirichal inhaeritance\n",
        "# difference between method overloading and overriding\n",
        "# Polymorphism"
      ],
      "metadata": {
        "id": "0Q5HO7Vm4omC"
      },
      "execution_count": null,
      "outputs": []
    }
  ]
}