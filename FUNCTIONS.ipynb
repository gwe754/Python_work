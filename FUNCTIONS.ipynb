{
  "nbformat": 4,
  "nbformat_minor": 0,
  "metadata": {
    "colab": {
      "provenance": [],
      "authorship_tag": "ABX9TyN/OvwkUsnF5nLoGfUrdoM0",
      "include_colab_link": true
    },
    "kernelspec": {
      "name": "python3",
      "display_name": "Python 3"
    },
    "language_info": {
      "name": "python"
    }
  },
  "cells": [
    {
      "cell_type": "markdown",
      "metadata": {
        "id": "view-in-github",
        "colab_type": "text"
      },
      "source": [
        "<a href=\"https://colab.research.google.com/github/gwe754/Python_work/blob/main/FUNCTIONS.ipynb\" target=\"_parent\"><img src=\"https://colab.research.google.com/assets/colab-badge.svg\" alt=\"Open In Colab\"/></a>"
      ]
    },
    {
      "cell_type": "code",
      "execution_count": null,
      "metadata": {
        "colab": {
          "base_uri": "https://localhost:8080/"
        },
        "id": "zAYkO7mn_CZS",
        "outputId": "75509e6f-5b23-4d00-8adb-43cbb4d014fd"
      },
      "outputs": [
        {
          "output_type": "stream",
          "name": "stdout",
          "text": [
            "hello kas\n"
          ]
        }
      ],
      "source": [
        "# A collection of statement\n",
        "# to perform specific task\n",
        "\n",
        "def func():\n",
        "    print(\"hey\")\n",
        "\n",
        "# call\n",
        "def msg(username):\n",
        "  print(\"hello\",username)\n",
        "msg(\"kas\")\n",
        "\n"
      ]
    },
    {
      "cell_type": "code",
      "source": [
        "# Local variable\n"
      ],
      "metadata": {
        "id": "icSc1MM1A7D_"
      },
      "execution_count": null,
      "outputs": []
    },
    {
      "cell_type": "code",
      "source": [
        "x=10\n",
        "def func(age):\n",
        "    print(age,\"Memory\",id(age))\n",
        "\n",
        "func(x)\n"
      ],
      "metadata": {
        "colab": {
          "base_uri": "https://localhost:8080/"
        },
        "id": "05-0DyNsBWlT",
        "outputId": "ecc967c8-e9ad-4203-a820-9f6e2552f709"
      },
      "execution_count": null,
      "outputs": [
        {
          "output_type": "stream",
          "name": "stdout",
          "text": [
            "10 Memory 137254626345488\n"
          ]
        }
      ]
    },
    {
      "cell_type": "code",
      "source": [
        "def func(myList):\n",
        "\n",
        "  print(myList,id(myList))\n",
        "newList=[2,3]\n",
        "print(\"Newlist:\",newList,id(newList))\n",
        "func(newList)\n"
      ],
      "metadata": {
        "colab": {
          "base_uri": "https://localhost:8080/"
        },
        "id": "yF4_t1HeCGB6",
        "outputId": "cfcc8f70-25b8-4bc3-e50d-148ea9f9f984"
      },
      "execution_count": null,
      "outputs": [
        {
          "output_type": "stream",
          "name": "stdout",
          "text": [
            "Newlist: [2, 3] 137253584633280\n",
            "[2, 3] 137253584633280\n"
          ]
        }
      ]
    },
    {
      "cell_type": "code",
      "source": [
        "def func(myList):\n",
        "  myList.append(\"tushar\")\n",
        "\n",
        "\n",
        "  print(myList,id(myList))\n",
        "newList=[2,3]\n",
        "\n",
        "func(newList)\n",
        "print(\"Newlist:\",newList,id(newList))"
      ],
      "metadata": {
        "colab": {
          "base_uri": "https://localhost:8080/"
        },
        "id": "vkUitHqRD0nn",
        "outputId": "8dd75635-5f69-490e-8021-dbd6cd81fa2f"
      },
      "execution_count": null,
      "outputs": [
        {
          "output_type": "stream",
          "name": "stdout",
          "text": [
            "[2, 3, 'tushar'] 137253584745024\n",
            "Newlist: [2, 3, 'tushar'] 137253584745024\n"
          ]
        }
      ]
    },
    {
      "cell_type": "code",
      "source": [
        "print(\"Enter a number\")\n",
        "num=int(input())\n",
        "type(num)\n",
        "def fun(x):\n",
        "  if(x%2==0):\n",
        "    print(\"True\")\n",
        "  else:\n",
        "    print(\"False\")\n",
        "# call\n",
        "fun(num)\n"
      ],
      "metadata": {
        "colab": {
          "base_uri": "https://localhost:8080/"
        },
        "id": "Ivayf0NrEQhp",
        "outputId": "4b5e60a8-3ca9-4c4f-ed5e-3aa52e01531d"
      },
      "execution_count": null,
      "outputs": [
        {
          "name": "stdout",
          "output_type": "stream",
          "text": [
            "Enter a number\n",
            "3\n"
          ]
        },
        {
          "output_type": "execute_result",
          "data": {
            "text/plain": [
              "int"
            ]
          },
          "metadata": {},
          "execution_count": 5
        }
      ]
    },
    {
      "cell_type": "code",
      "source": [
        "def func(x):\n",
        "  print(x+10)\n",
        "out=func(20)\n",
        "print()\n",
        "print(out)\n"
      ],
      "metadata": {
        "colab": {
          "base_uri": "https://localhost:8080/"
        },
        "id": "fP6t_jtfFYY1",
        "outputId": "0048baaa-56f8-4cf9-b4ad-9c04ff26ee69"
      },
      "execution_count": null,
      "outputs": [
        {
          "output_type": "stream",
          "name": "stdout",
          "text": [
            "30\n"
          ]
        }
      ]
    },
    {
      "cell_type": "code",
      "source": [
        "def Compare(x,y):\n",
        "  great=0\n",
        "  if (x>y):\n",
        "    print(x,\"is greatest\")\n",
        "    great=x\n",
        "  else:\n",
        "    print(y,\"is greaest\")\n",
        "    great=y\n",
        "  if(great%x==0 and great%y==0):\n",
        "    print(great,\"is LCM\")\n",
        "\n",
        "  else:\n",
        "    great=great+1\n",
        "    bool=True\n",
        "    while(bool):\n",
        "      if(great%x==0 and great%y==0):\n",
        "        print(great,\"is greatest\")\n",
        "        bool=False\n",
        "      else:\n",
        "        great+=great\n",
        "        bool=True\n",
        "Compare(7,9)\n",
        "\n",
        "\n",
        "\n",
        "\n",
        "\n"
      ],
      "metadata": {
        "colab": {
          "base_uri": "https://localhost:8080/"
        },
        "id": "pEai2JJLIZaT",
        "outputId": "f772658a-a6b4-46b2-8db6-e5620d76658c"
      },
      "execution_count": null,
      "outputs": [
        {
          "metadata": {
            "tags": null
          },
          "name": "stdout",
          "output_type": "stream",
          "text": [
            "9 is greaest\n"
          ]
        }
      ]
    }
  ]
}