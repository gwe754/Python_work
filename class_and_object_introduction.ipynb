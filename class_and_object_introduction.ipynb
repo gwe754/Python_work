{
  "nbformat": 4,
  "nbformat_minor": 0,
  "metadata": {
    "colab": {
      "provenance": [],
      "authorship_tag": "ABX9TyNAVmmdDvYUKWa7Er6DBrxy",
      "include_colab_link": true
    },
    "kernelspec": {
      "name": "python3",
      "display_name": "Python 3"
    },
    "language_info": {
      "name": "python"
    }
  },
  "cells": [
    {
      "cell_type": "markdown",
      "metadata": {
        "id": "view-in-github",
        "colab_type": "text"
      },
      "source": [
        "<a href=\"https://colab.research.google.com/github/gwe754/Python_work/blob/main/class_and_object_introduction.ipynb\" target=\"_parent\"><img src=\"https://colab.research.google.com/assets/colab-badge.svg\" alt=\"Open In Colab\"/></a>"
      ]
    },
    {
      "cell_type": "code",
      "execution_count": null,
      "metadata": {
        "colab": {
          "base_uri": "https://localhost:8080/"
        },
        "id": "AzXq4WzDjhXe",
        "outputId": "47a569fa-1235-42da-c69c-490c8c051489"
      },
      "outputs": [
        {
          "output_type": "stream",
          "name": "stdout",
          "text": [
            "white\n"
          ]
        }
      ],
      "source": [
        "class House:\n",
        "  color=\"white\"\n",
        "  room=5\n",
        "h1=House()\n",
        "\n",
        "print(h1.color)\n",
        "print(h1.room)\n",
        "\n"
      ]
    },
    {
      "cell_type": "code",
      "source": [
        "class House:\n",
        "    color=\"green\"\n",
        "    def info(self):\n",
        "        print(\"I will give u\",self.color)\n",
        "h2=House()\n",
        "h3=House()\n",
        "h2.info()"
      ],
      "metadata": {
        "colab": {
          "base_uri": "https://localhost:8080/"
        },
        "id": "Np0-zzvFj-bM",
        "outputId": "1ec3a6a6-a8ee-4934-f112-3174ee0e7056"
      },
      "execution_count": null,
      "outputs": [
        {
          "output_type": "stream",
          "name": "stdout",
          "text": [
            "I will give u green\n"
          ]
        }
      ]
    },
    {
      "cell_type": "code",
      "source": [
        "class House:\n",
        "  # constructor\n",
        "  # function which initilize memory address for object\n",
        "  #\n",
        "  def __init__(self):\n",
        "    print(\"hello\")\n",
        "\n",
        "cafe1=House()\n"
      ],
      "metadata": {
        "colab": {
          "base_uri": "https://localhost:8080/"
        },
        "id": "ARb-LHymkfRT",
        "outputId": "270310cf-d70f-41c9-c82c-e2a8ccdda4df"
      },
      "execution_count": null,
      "outputs": [
        {
          "output_type": "stream",
          "name": "stdout",
          "text": [
            "hello\n"
          ]
        }
      ]
    },
    {
      "cell_type": "code",
      "source": [
        "# self has memory address of current object\n",
        "# self has automatic value\n",
        "class Cafe:\n",
        "  item=\"coffee\"\n",
        "  def __init__(self,x):\n",
        "    print(self)\n",
        "C=Cafe()\n",
        "\n"
      ],
      "metadata": {
        "colab": {
          "base_uri": "https://localhost:8080/"
        },
        "id": "aczmNzx9t-p8",
        "outputId": "301f71a4-decc-48f9-f99f-44b89a0c1cc1"
      },
      "execution_count": null,
      "outputs": [
        {
          "output_type": "stream",
          "name": "stdout",
          "text": [
            "<__main__.Cafe object at 0x7e7e668e1120>\n"
          ]
        }
      ]
    },
    {
      "cell_type": "code",
      "source": [
        "class House:\n",
        "  def __init__(self,x):\n",
        "    self.color=x\n",
        "cafe1=House(\"red\")\n",
        "print(cafe1.color)\n",
        "\n"
      ],
      "metadata": {
        "colab": {
          "base_uri": "https://localhost:8080/"
        },
        "id": "wV3P6IUkl-9N",
        "outputId": "d5003cae-9f0d-45df-b3dd-a1003c73709e"
      },
      "execution_count": null,
      "outputs": [
        {
          "output_type": "stream",
          "name": "stdout",
          "text": [
            "red\n"
          ]
        }
      ]
    },
    {
      "cell_type": "code",
      "source": [
        "class Employee:\n",
        "  def __init__(self,x,y):\n",
        "    self.name=x\n",
        "    self.salary=y\n",
        "    print(self)\n",
        "e=Employee(\"kashish\",35000)\n",
        "print(e.name)\n",
        "print(e.salary)\n",
        "print(e)\n",
        "\n",
        "\n"
      ],
      "metadata": {
        "id": "HoeCfSlmmA5l",
        "colab": {
          "base_uri": "https://localhost:8080/"
        },
        "outputId": "65aa64c1-c8c4-4c9e-a920-d240a03dcb0d"
      },
      "execution_count": 1,
      "outputs": [
        {
          "output_type": "stream",
          "name": "stdout",
          "text": [
            "<__main__.Employee object at 0x7998bcc3bd00>\n",
            "kashish\n",
            "35000\n",
            "<__main__.Employee object at 0x7998bcc3bd00>\n"
          ]
        }
      ]
    }
  ]
}