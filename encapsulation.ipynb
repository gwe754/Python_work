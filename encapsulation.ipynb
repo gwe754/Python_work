{
  "nbformat": 4,
  "nbformat_minor": 0,
  "metadata": {
    "colab": {
      "provenance": [],
      "authorship_tag": "ABX9TyOx6v7f4R/mGE1vF2B3yYcg",
      "include_colab_link": true
    },
    "kernelspec": {
      "name": "python3",
      "display_name": "Python 3"
    },
    "language_info": {
      "name": "python"
    }
  },
  "cells": [
    {
      "cell_type": "markdown",
      "metadata": {
        "id": "view-in-github",
        "colab_type": "text"
      },
      "source": [
        "<a href=\"https://colab.research.google.com/github/gwe754/Python_work/blob/main/encapsulation.ipynb\" target=\"_parent\"><img src=\"https://colab.research.google.com/assets/colab-badge.svg\" alt=\"Open In Colab\"/></a>"
      ]
    },
    {
      "cell_type": "code",
      "execution_count": null,
      "metadata": {
        "id": "kMjysy_3M8ib"
      },
      "outputs": [],
      "source": [
        "# encapsulation\n",
        "# restrict access (access-modifiers) private, public\n",
        "# _,__\n",
        "\n",
        "class Bank:\n",
        "  __amount=1000  # private , locked\n",
        "  def call(self):\n",
        "    print(self.__amount)\n",
        "\n",
        "b1=Bank()\n",
        "dir(Bank)\n",
        "b1._Bank__amount\n",
        "# name mangling : if variable is private , name gets changed\n",
        "# but could access private variable if it is accessed through changed name in dir\n",
        "# dir[obj] is a list of functions and variables\n",
        "\n",
        "\n"
      ]
    },
    {
      "cell_type": "code",
      "source": [
        "class Student:\n",
        "  def __init__(self,name,marks):\n",
        "    self.__name=name\n",
        "    self.__class=marks\n",
        "  def show(self):\n",
        "    print(\"name is\",self.__name)\n",
        "s1= Student(\"kashish\",89)\n",
        "s1.show()\n",
        "# s1.__name\n",
        "# private variables are accessed by methods of object/class but not outside class\n",
        "\n"
      ],
      "metadata": {
        "colab": {
          "base_uri": "https://localhost:8080/"
        },
        "id": "8EPqi37uNpHB",
        "outputId": "0f0a662b-b680-43d4-99c6-c8532f55d715"
      },
      "execution_count": 3,
      "outputs": [
        {
          "output_type": "stream",
          "name": "stdout",
          "text": [
            "name is kashish\n"
          ]
        }
      ]
    }
  ]
}