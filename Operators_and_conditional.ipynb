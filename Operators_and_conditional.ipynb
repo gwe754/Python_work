{
  "nbformat": 4,
  "nbformat_minor": 0,
  "metadata": {
    "colab": {
      "provenance": [],
      "authorship_tag": "ABX9TyPPzsIf+jLQSWPuu4gojo9X",
      "include_colab_link": true
    },
    "kernelspec": {
      "name": "python3",
      "display_name": "Python 3"
    },
    "language_info": {
      "name": "python"
    }
  },
  "cells": [
    {
      "cell_type": "markdown",
      "metadata": {
        "id": "view-in-github",
        "colab_type": "text"
      },
      "source": [
        "<a href=\"https://colab.research.google.com/github/gwe754/Python_work/blob/main/Operators_and_conditional.ipynb\" target=\"_parent\"><img src=\"https://colab.research.google.com/assets/colab-badge.svg\" alt=\"Open In Colab\"/></a>"
      ]
    },
    {
      "cell_type": "code",
      "execution_count": null,
      "metadata": {
        "colab": {
          "base_uri": "https://localhost:8080/"
        },
        "id": "DDEDNyGdbSd_",
        "outputId": "253198fd-5fde-4868-83f3-0283e6a8c295"
      },
      "outputs": [
        {
          "output_type": "execute_result",
          "data": {
            "text/plain": [
              "5.0"
            ]
          },
          "metadata": {},
          "execution_count": 1
        }
      ],
      "source": [
        "10/2\n"
      ]
    },
    {
      "cell_type": "code",
      "source": [
        "10//2"
      ],
      "metadata": {
        "colab": {
          "base_uri": "https://localhost:8080/"
        },
        "id": "S4T_0bAYbp6L",
        "outputId": "3c55b77e-fa8a-4f60-e8b4-5ac1d7bd8b63"
      },
      "execution_count": null,
      "outputs": [
        {
          "output_type": "execute_result",
          "data": {
            "text/plain": [
              "5"
            ]
          },
          "metadata": {},
          "execution_count": 2
        }
      ]
    },
    {
      "cell_type": "code",
      "source": [
        "2**4"
      ],
      "metadata": {
        "colab": {
          "base_uri": "https://localhost:8080/"
        },
        "id": "d5gULHsVbv8e",
        "outputId": "cbb67e41-a9bc-48fa-e8ac-e3e7c6d3f2b3"
      },
      "execution_count": null,
      "outputs": [
        {
          "output_type": "execute_result",
          "data": {
            "text/plain": [
              "16"
            ]
          },
          "metadata": {},
          "execution_count": 3
        }
      ]
    },
    {
      "cell_type": "code",
      "source": [
        "1*5-2/1+7-2"
      ],
      "metadata": {
        "colab": {
          "base_uri": "https://localhost:8080/"
        },
        "id": "0Vnt92xJb9c7",
        "outputId": "a5ae8656-a442-4ae9-80d1-61eb3dc3fd11"
      },
      "execution_count": null,
      "outputs": [
        {
          "output_type": "execute_result",
          "data": {
            "text/plain": [
              "8.0"
            ]
          },
          "metadata": {},
          "execution_count": 5
        }
      ]
    },
    {
      "cell_type": "code",
      "source": [
        "10%3"
      ],
      "metadata": {
        "colab": {
          "base_uri": "https://localhost:8080/"
        },
        "id": "-H_JaBJPb4X2",
        "outputId": "7e597275-1d05-4a25-cf98-0ad9b4572d59"
      },
      "execution_count": null,
      "outputs": [
        {
          "output_type": "execute_result",
          "data": {
            "text/plain": [
              "1"
            ]
          },
          "metadata": {},
          "execution_count": 4
        }
      ]
    },
    {
      "cell_type": "code",
      "source": [
        "x=10\n",
        "x+10\n",
        "print(x)"
      ],
      "metadata": {
        "colab": {
          "base_uri": "https://localhost:8080/"
        },
        "id": "dYOO1B79cjpm",
        "outputId": "a36e3e5c-4ef8-422f-eff3-19f71a98f23d"
      },
      "execution_count": null,
      "outputs": [
        {
          "output_type": "stream",
          "name": "stdout",
          "text": [
            "10\n"
          ]
        }
      ]
    },
    {
      "cell_type": "code",
      "source": [
        "x=10\n",
        "x=x+10\n",
        "print(x)"
      ],
      "metadata": {
        "colab": {
          "base_uri": "https://localhost:8080/"
        },
        "id": "OSfye3KTdEq7",
        "outputId": "4f4322be-237c-4007-e59d-ddb7f00a1eb0"
      },
      "execution_count": null,
      "outputs": [
        {
          "output_type": "stream",
          "name": "stdout",
          "text": [
            "20\n"
          ]
        }
      ]
    },
    {
      "cell_type": "code",
      "source": [
        "x=3\n",
        "x//=4\n",
        "\n"
      ],
      "metadata": {
        "id": "mh3-IC5HdGH0"
      },
      "execution_count": null,
      "outputs": []
    },
    {
      "cell_type": "code",
      "source": [
        "x=10\n",
        "y=20\n",
        "x>10 and y==20"
      ],
      "metadata": {
        "colab": {
          "base_uri": "https://localhost:8080/"
        },
        "id": "xp9Y7AIzdYk6",
        "outputId": "25d1f8ca-5693-46f7-ba40-47d83b12003b"
      },
      "execution_count": null,
      "outputs": [
        {
          "output_type": "execute_result",
          "data": {
            "text/plain": [
              "False"
            ]
          },
          "metadata": {},
          "execution_count": 8
        }
      ]
    },
    {
      "cell_type": "code",
      "source": [
        "x>10 or y==20"
      ],
      "metadata": {
        "colab": {
          "base_uri": "https://localhost:8080/"
        },
        "id": "Cg_C424iedE4",
        "outputId": "245f7137-0ff7-4f28-d2d4-9e44c330585b"
      },
      "execution_count": null,
      "outputs": [
        {
          "output_type": "execute_result",
          "data": {
            "text/plain": [
              "True"
            ]
          },
          "metadata": {},
          "execution_count": 9
        }
      ]
    },
    {
      "cell_type": "code",
      "source": [
        "\"J\" in \"Jaipur\""
      ],
      "metadata": {
        "colab": {
          "base_uri": "https://localhost:8080/"
        },
        "id": "X34jN5uuerNE",
        "outputId": "97f9b214-e659-4bb4-8846-ff01c66133a6"
      },
      "execution_count": null,
      "outputs": [
        {
          "output_type": "execute_result",
          "data": {
            "text/plain": [
              "True"
            ]
          },
          "metadata": {},
          "execution_count": 11
        }
      ]
    },
    {
      "cell_type": "code",
      "source": [
        "\"Z\" in \"Jaipur\""
      ],
      "metadata": {
        "colab": {
          "base_uri": "https://localhost:8080/"
        },
        "id": "hn_PW_skesPO",
        "outputId": "d30eec5d-a8e3-4e0f-c5ff-604780896af2"
      },
      "execution_count": null,
      "outputs": [
        {
          "output_type": "execute_result",
          "data": {
            "text/plain": [
              "False"
            ]
          },
          "metadata": {},
          "execution_count": 12
        }
      ]
    },
    {
      "cell_type": "code",
      "source": [
        "x=10\n",
        "type(x)"
      ],
      "metadata": {
        "colab": {
          "base_uri": "https://localhost:8080/"
        },
        "id": "RhlLerePfZsU",
        "outputId": "71bc2165-f91f-48cc-e462-b8e46051e19e"
      },
      "execution_count": null,
      "outputs": [
        {
          "output_type": "execute_result",
          "data": {
            "text/plain": [
              "int"
            ]
          },
          "metadata": {},
          "execution_count": 13
        }
      ]
    },
    {
      "cell_type": "code",
      "source": [
        "y=2.0\n",
        "type(y) is int"
      ],
      "metadata": {
        "colab": {
          "base_uri": "https://localhost:8080/"
        },
        "id": "fLFW32VHf_jA",
        "outputId": "a8c14f9c-52e0-42ba-e2ef-ca4d2f3b2a55"
      },
      "execution_count": null,
      "outputs": [
        {
          "output_type": "execute_result",
          "data": {
            "text/plain": [
              "False"
            ]
          },
          "metadata": {},
          "execution_count": 14
        }
      ]
    },
    {
      "cell_type": "code",
      "source": [
        "age=18\n",
        "if(age>=18):\n",
        "    print(\"can vote\")"
      ],
      "metadata": {
        "colab": {
          "base_uri": "https://localhost:8080/"
        },
        "id": "-uuKqZgOgGo0",
        "outputId": "1da4da4f-3fc1-43dc-f69f-0843e68ad5d0"
      },
      "execution_count": null,
      "outputs": [
        {
          "output_type": "stream",
          "name": "stdout",
          "text": [
            "can vote\n"
          ]
        }
      ]
    },
    {
      "cell_type": "code",
      "source": [
        "age=18\n",
        "if(age==18):\n",
        "      print(\"Vote\")\n",
        "else:\n",
        "      print(\"kuch nahi\")\n"
      ],
      "metadata": {
        "colab": {
          "base_uri": "https://localhost:8080/"
        },
        "id": "vcB9L0NPh36l",
        "outputId": "5a3fcb79-2506-407c-8cbc-bcef423ccbf7"
      },
      "execution_count": null,
      "outputs": [
        {
          "output_type": "stream",
          "name": "stdout",
          "text": [
            "Vote\n"
          ]
        }
      ]
    },
    {
      "cell_type": "code",
      "source": [
        "a=2\n",
        "b=5\n",
        "c=4\n",
        "if(a<b and a<c):\n",
        "    print(\"a is smallest\")\n",
        "elif(b<a and b<c):\n",
        "    print(\"b is smallest\")\n",
        "else:\n",
        "    print(\"c is smallest\")\n"
      ],
      "metadata": {
        "colab": {
          "base_uri": "https://localhost:8080/"
        },
        "id": "XY9mg2pcga_b",
        "outputId": "a8b4fbae-2480-4837-eeb5-86d5a22a1399"
      },
      "execution_count": null,
      "outputs": [
        {
          "output_type": "stream",
          "name": "stdout",
          "text": [
            "a is smallest\n"
          ]
        }
      ]
    },
    {
      "cell_type": "code",
      "source": [
        "age=36\n",
        "if(age>=18 and age<25):\n",
        "    print(\"Citizen is young adult\")\n",
        "elif(age>=25 and age<=34):\n",
        "    print(\"Citizen is adult\")\n",
        "elif(age>=35 and age<=60):\n",
        "    print(\"Citizen is senior adult\")\n",
        "elif(age>=60):\n",
        "    print(\"Citizen is senior\")\n",
        "else:\n",
        "    print(\"Citizen is child\")\n",
        "\n",
        "\n"
      ],
      "metadata": {
        "colab": {
          "base_uri": "https://localhost:8080/"
        },
        "id": "uG7RR5u1lm95",
        "outputId": "a91ee8e7-2f3f-4a42-d096-61f184e5c4fc"
      },
      "execution_count": null,
      "outputs": [
        {
          "output_type": "stream",
          "name": "stdout",
          "text": [
            "Citizen is senior adult\n"
          ]
        }
      ]
    },
    {
      "cell_type": "code",
      "source": [
        "\n"
      ],
      "metadata": {
        "id": "2VK1UNBDoSh3"
      },
      "execution_count": null,
      "outputs": []
    }
  ]
}